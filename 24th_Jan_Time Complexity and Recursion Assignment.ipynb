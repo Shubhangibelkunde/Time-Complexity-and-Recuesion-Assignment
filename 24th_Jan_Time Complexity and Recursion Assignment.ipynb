{
 "cells": [
  {
   "cell_type": "code",
   "execution_count": null,
   "id": "63c51c59-93d6-4aa3-87dc-4a28e338e802",
   "metadata": {},
   "outputs": [],
   "source": [
    "1) Find Time Complexity of following code = \n",
    "def quicksort(arr):\n",
    "if len(arr) <= 1:\n",
    "return arr\n",
    "pivot = arr[len(arr) // 2]\n",
    "left = [x for x in arr if x < pivot]\n",
    "middle = [x for x in arr if x == pivot]\n",
    "right = [x for x in arr if x > pivot]\n",
    "return quicksort(left) + middle + quicksort(right)"
   ]
  },
  {
   "cell_type": "code",
   "execution_count": 1,
   "id": "49376d29-d2f4-4d35-baa3-9ec5fe86cacb",
   "metadata": {},
   "outputs": [
    {
     "name": "stdout",
     "output_type": "stream",
     "text": [
      "Sorted array: [1, 1, 2, 3, 6, 8, 10]\n"
     ]
    }
   ],
   "source": [
    "def partition(arr, low, high):\n",
    "    pivot = arr[high]\n",
    "    i = low - 1\n",
    "    for j in range(low, high):\n",
    "        if arr[j] < pivot:\n",
    "            i += 1\n",
    "            arr[i], arr[j] = arr[j], arr[i]\n",
    "    arr[i + 1], arr[high] = arr[high], arr[i + 1]\n",
    "    return i + 1\n",
    "\n",
    "def quicksort(arr, low, high):\n",
    "    if low < high:\n",
    "        pi = partition(arr, low, high)\n",
    "        quicksort(arr, low, pi - 1)\n",
    "        quicksort(arr, pi + 1, high)\n",
    "\n",
    "arr = [3, 6, 8, 10, 1, 2, 1]\n",
    "quicksort(arr, 0, len(arr) - 1)\n",
    "print(\"Sorted array:\", arr)\n"
   ]
  },
  {
   "cell_type": "code",
   "execution_count": null,
   "id": "1c593290-ae63-45af-8312-f7361ab0c3c9",
   "metadata": {},
   "outputs": [],
   "source": [
    "here partition runs in O(n) time complexity\n",
    "after partioning in recursion the array gets devide into two parts so it has tc oc n/2\n",
    "then combining subarray -s take O(n) tc \n",
    "so the TC of this is = O(n log n)"
   ]
  },
  {
   "cell_type": "code",
   "execution_count": null,
   "id": "1254464b-d91d-4ff4-b893-22949839306e",
   "metadata": {},
   "outputs": [],
   "source": [
    "2) find the Time Complexity of following code.\n",
    "def nested_loop_example(matrix):\n",
    "rows, cols = len(matrix), len(matrix[0])\n",
    "total = 0\n",
    "for i in range(rows):\n",
    "for j in range(cols):\n",
    "total += matrix[i][j]\n",
    "return total"
   ]
  },
  {
   "cell_type": "code",
   "execution_count": null,
   "id": "0f74d37b-2797-4aaa-8ed6-50eac1fb774d",
   "metadata": {},
   "outputs": [],
   "source": [
    "the Time Complexity of this code is = O(n)"
   ]
  },
  {
   "cell_type": "code",
   "execution_count": null,
   "id": "654f06a2-873d-4691-bd94-677f456ef4ae",
   "metadata": {},
   "outputs": [],
   "source": [
    "3) find the Time Complexity of following code\n",
    "\n",
    "def example_function(arr):\n",
    "result = 0\n",
    "for element in arr:\n",
    "result += element\n",
    "return result"
   ]
  },
  {
   "cell_type": "code",
   "execution_count": null,
   "id": "9ec11866-08aa-4668-96af-ca4b067ab729",
   "metadata": {},
   "outputs": [],
   "source": [
    "Time Complexity of this code is  = O(n)"
   ]
  },
  {
   "cell_type": "code",
   "execution_count": null,
   "id": "e10f3aab-040a-44b9-a23e-2de5f21d332c",
   "metadata": {},
   "outputs": [],
   "source": [
    "4) find the Time Complexity of following code\n",
    "\n",
    "def longest_increasing_subsequence(nums):\n",
    "n = len(nums)\n",
    "lis = [1] * n\n",
    "for i in range(1, n):\n",
    "    for j in range(0, i):\n",
    "        if nums[i] > nums[j] and lis[i] < lis[j] + 1:\n",
    "        lis[i] = lis[j] + 1\n",
    "return max(lis)"
   ]
  },
  {
   "cell_type": "code",
   "execution_count": null,
   "id": "29392bde-8ec3-4e31-8624-647defa6fe57",
   "metadata": {},
   "outputs": [],
   "source": [
    "Time Complexity of this code is  = O(n**2)"
   ]
  },
  {
   "cell_type": "code",
   "execution_count": null,
   "id": "2eed3bff-8762-48e9-ae1d-c3d4c6399ead",
   "metadata": {},
   "outputs": [],
   "source": [
    "def mysterious_function(arr):\n",
    "n = len(arr)\n",
    "result = 0\n",
    "for i in range(n):\n",
    "    for j in range(i, n):\n",
    "        result += arr[i] * arr[j]\n",
    "return result"
   ]
  },
  {
   "cell_type": "code",
   "execution_count": null,
   "id": "874a9cf9-506a-4d90-9577-40fb5d851de0",
   "metadata": {},
   "outputs": [],
   "source": [
    "Time Complexity of this code is  = O(n**2)"
   ]
  },
  {
   "cell_type": "code",
   "execution_count": null,
   "id": "a91bc5bd-3f5c-4304-97a8-071904750c2e",
   "metadata": {},
   "outputs": [],
   "source": [
    "Problem 6 : Sum of Digits (solve by recursion)\n",
    "Write a recursive function to calculate the sum of digits of a given positive integer.\n",
    "sum_of_digits(123) -> 6"
   ]
  },
  {
   "cell_type": "code",
   "execution_count": 2,
   "id": "c6e694d1-e61f-48ef-90d2-15c89c442319",
   "metadata": {},
   "outputs": [
    {
     "name": "stdout",
     "output_type": "stream",
     "text": [
      "6\n"
     ]
    }
   ],
   "source": [
    "def sum_of_digits(n):\n",
    "    # Base case: If the number is less than 10 (single-digit), return the number itself\n",
    "    if n < 10:\n",
    "        return n\n",
    "    else:\n",
    "        # Recursive case: Calculate the sum of digits of the number\n",
    "        # by adding the last digit to the sum of digits of the remaining number\n",
    "        return n % 10 + sum_of_digits(n // 10)\n",
    "\n",
    "# Test the function\n",
    "print(sum_of_digits(123)) \n"
   ]
  },
  {
   "cell_type": "code",
   "execution_count": null,
   "id": "9c29f3dd-9402-48b1-8543-67ed12b9b5bb",
   "metadata": {},
   "outputs": [],
   "source": [
    "Problem 7: Fibonacci Series (solve by recursion)\n",
    "Write a recursive function to generate the first n numbers of the Fibonacci series.\n",
    "fibonacci_series(6) -> [0, 1, 1, 2, 3, 5]"
   ]
  },
  {
   "cell_type": "code",
   "execution_count": 3,
   "id": "cb3e7fac-e0f6-4693-a6ad-1872900be585",
   "metadata": {},
   "outputs": [
    {
     "name": "stdout",
     "output_type": "stream",
     "text": [
      "[0, 1, 1, 2, 3, 5]\n"
     ]
    }
   ],
   "source": [
    "def fibonacci_series(n):\n",
    "    # Base case: If n is 0, return an empty list\n",
    "    if n == 0:\n",
    "        return []\n",
    "    # Base case: If n is 1, return [0]\n",
    "    elif n == 1:\n",
    "        return [0]\n",
    "    # Base case: If n is 2, return [0, 1]\n",
    "    elif n == 2:\n",
    "        return [0, 1]\n",
    "    else:\n",
    "        # Recursive case: Generate the Fibonacci series recursively\n",
    "        series = fibonacci_series(n - 1)\n",
    "        series.append(series[-1] + series[-2])\n",
    "        return series\n",
    "\n",
    "# Test the function\n",
    "print(fibonacci_series(6))\n"
   ]
  },
  {
   "cell_type": "code",
   "execution_count": null,
   "id": "d08dfd3c-e337-4b6d-895d-f1d403707803",
   "metadata": {},
   "outputs": [],
   "source": [
    "Problem 8 : Subset Sum(solve by recursion)\n",
    "Given a set of positive integers and a target sum, write a recursive function to determine if there exists a subset\n",
    "of the integers that adds up to the target sum.\n",
    "subset_sum([3, 34, 4, 12, 5, 2], 9) -> True"
   ]
  },
  {
   "cell_type": "code",
   "execution_count": 5,
   "id": "821e94e2-98d7-46fa-9591-0980cd9dae4a",
   "metadata": {},
   "outputs": [
    {
     "name": "stdout",
     "output_type": "stream",
     "text": [
      "True\n"
     ]
    }
   ],
   "source": [
    "def subset_sum(nums, target):\n",
    "    # Recursive helper function to check if a subset of nums[i:] sums up to target\n",
    "    def subset_sum_recursive(i, target):\n",
    "        # Base cases:\n",
    "        # If target becomes 0, we have found a subset that sums up to target\n",
    "        if target == 0:\n",
    "            return True\n",
    "        # If i becomes negative or target becomes negative, no subset can sum up to target\n",
    "        if i < 0 or target < 0:\n",
    "            return False\n",
    "        \n",
    "        # Recursive cases:\n",
    "        # Include the current element and check for the remaining target\n",
    "        include_current = subset_sum_recursive(i - 1, target - nums[i])\n",
    "        # Exclude the current element and check for the remaining target\n",
    "        exclude_current = subset_sum_recursive(i - 1, target)\n",
    "        \n",
    "        # Return True if including or excluding the current element results in a subset summing up to target\n",
    "        return include_current or exclude_current\n",
    "    \n",
    "    # Start the recursive function from the last element (len(nums) - 1)\n",
    "    return subset_sum_recursive(len(nums) - 1, target)\n",
    "\n",
    "# Test the function\n",
    "print(subset_sum([3, 34, 4, 12, 5, 2], 9))  \n"
   ]
  },
  {
   "cell_type": "code",
   "execution_count": null,
   "id": "4eaf9273-f5ee-4329-9ead-a91d9fcce839",
   "metadata": {},
   "outputs": [],
   "source": [
    "Problem 9: Word Break (solve by recursion)\n",
    "Given a non-empty string and a dictionary of words, write a recursive function to determine if the string can be\n",
    "segmented into a space-separated sequence of dictionary words.\n",
    "word_break( leetcode , [ leet , code ]) -> True"
   ]
  },
  {
   "cell_type": "code",
   "execution_count": 6,
   "id": "bc931974-9cf9-4dab-a5c0-36c1a4b19a56",
   "metadata": {},
   "outputs": [
    {
     "name": "stdout",
     "output_type": "stream",
     "text": [
      "True\n"
     ]
    }
   ],
   "source": [
    "def word_break(s, word_dict):\n",
    "    # Recursive helper function to check if the string s can be segmented into words from word_dict\n",
    "    def word_break_recursive(s, word_dict, memo):\n",
    "        # If the string is empty, it can be segmented into words\n",
    "        if not s:\n",
    "            return True\n",
    "        \n",
    "        # If the result for the current string has already been calculated, return it\n",
    "        if s in memo:\n",
    "            return memo[s]\n",
    "        \n",
    "        # Try all possible prefixes of the string\n",
    "        for i in range(1, len(s) + 1):\n",
    "            prefix = s[:i]\n",
    "            # If the prefix is in the word dictionary and the remaining string can also be segmented,\n",
    "            # return True\n",
    "            if prefix in word_dict and word_break_recursive(s[i:], word_dict, memo):\n",
    "                memo[s] = True\n",
    "                return True\n",
    "        \n",
    "        # If no prefix of the string is in the word dictionary, set the result to False\n",
    "        memo[s] = False\n",
    "        return False\n",
    "    \n",
    "    # Initialize a memoization dictionary to store results for subproblems\n",
    "    memo = {}\n",
    "    # Start the recursive function from the entire string\n",
    "    return word_break_recursive(s, word_dict, memo)\n",
    "\n",
    "# Test the function\n",
    "print(word_break(\"leetcode\", [\"leet\", \"code\"]))\n"
   ]
  },
  {
   "cell_type": "code",
   "execution_count": null,
   "id": "0d3651d1-13a3-457c-9d42-edcb74b0737f",
   "metadata": {},
   "outputs": [],
   "source": [
    "Implement a recursive function to solve the N Queens problem, where you have to place N queens on an N×N\n",
    "chessboard in such a way that no two queens threaten each other.(solve by recursion)\n",
    "n_queens(4)\n",
    "[\n",
    "[\".Q..\",\n",
    "\"...Q\",\n",
    "\"Q...\",\n",
    "\"..Q.\"],\n",
    "[\"..Q.\",\n",
    "\"Q...\",\n",
    "\"...Q\",\n",
    "\".Q..\"]\n",
    "]"
   ]
  },
  {
   "cell_type": "code",
   "execution_count": 7,
   "id": "912cb200-e527-4b85-8a3f-741352631906",
   "metadata": {},
   "outputs": [
    {
     "name": "stdout",
     "output_type": "stream",
     "text": [
      "[['.Q..', '...Q', 'Q...', '..Q.'], ['..Q.', 'Q...', '...Q', '.Q..']]\n"
     ]
    }
   ],
   "source": [
    "def n_queens(n):\n",
    "    def is_safe(board, row, col):\n",
    "        # Check if there's a queen in the same column\n",
    "        for i in range(row):\n",
    "            if board[i][col] == 'Q':\n",
    "                return False\n",
    "        \n",
    "        # Check if there's a queen in the upper left diagonal\n",
    "        for i, j in zip(range(row-1, -1, -1), range(col-1, -1, -1)):\n",
    "            if board[i][j] == 'Q':\n",
    "                return False\n",
    "        \n",
    "        # Check if there's a queen in the upper right diagonal\n",
    "        for i, j in zip(range(row-1, -1, -1), range(col+1, n)):\n",
    "            if board[i][j] == 'Q':\n",
    "                return False\n",
    "        \n",
    "        return True\n",
    "    \n",
    "    def solve(board, row, results):\n",
    "        if row == n:\n",
    "            results.append([\"\".join(row) for row in board])\n",
    "            return\n",
    "        \n",
    "        for col in range(n):\n",
    "            if is_safe(board, row, col):\n",
    "                board[row][col] = 'Q'\n",
    "                solve(board, row+1, results)\n",
    "                board[row][col] = '.'\n",
    "    \n",
    "    # Initialize the chessboard with empty cells\n",
    "    board = [['.' for _ in range(n)] for _ in range(n)]\n",
    "    results = []\n",
    "    solve(board, 0, results)\n",
    "    return results\n",
    "\n",
    "# Test the function\n",
    "print(n_queens(4))\n"
   ]
  }
 ],
 "metadata": {
  "kernelspec": {
   "display_name": "Python 3 (ipykernel)",
   "language": "python",
   "name": "python3"
  },
  "language_info": {
   "codemirror_mode": {
    "name": "ipython",
    "version": 3
   },
   "file_extension": ".py",
   "mimetype": "text/x-python",
   "name": "python",
   "nbconvert_exporter": "python",
   "pygments_lexer": "ipython3",
   "version": "3.10.8"
  }
 },
 "nbformat": 4,
 "nbformat_minor": 5
}
